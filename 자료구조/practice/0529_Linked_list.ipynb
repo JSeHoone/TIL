{
 "cells": [
  {
   "cell_type": "markdown",
   "metadata": {},
   "source": [
    "연습: Linked List 구현"
   ]
  },
  {
   "cell_type": "code",
   "execution_count": 3,
   "metadata": {},
   "outputs": [],
   "source": [
    "class Node:\n",
    "    def __init__(self, data, next = None):\n",
    "        self.data = data\n",
    "        self.next = next\n",
    "\n",
    "class Linked_List:\n",
    "    def __init__(self,data):\n",
    "        self.head = Node(data)\n",
    "\n",
    "    # 데이터를 추가해서 넣어주는 기능\n",
    "    def add(self,data):\n",
    "        node = self.head # 현재 node를 지정\n",
    "\n",
    "        while node.next: # node의 next가 있으면\n",
    "            node = node.next\n",
    "        node.next = Node(data) # node.next가 None인 경우\n",
    "\n",
    "    # Linked List의 순서대로 출력해주기\n",
    "    def desc(self):\n",
    "        node = self.head\n",
    "        while node.next: # node.next가 None인 경우 출력을 중지\n",
    "            print(node.data)\n",
    "            node = node.next\n",
    "        print(node.data) # 마지막 노드 데이터 출력 \n",
    "\n",
    "    # 특정한 데이터 삭제해주기\n",
    "    def delete(self,data):\n",
    "        node = self.head # 현재 node\n",
    "        while node.next: # node.next가 None이면 링크드 리스트 전체 서치 완\n",
    "            if node.next.data == data:\n",
    "                remove_data = node.next # 지워야할 node \n",
    "                node.next = node.next.next # 지워야할 node 다음의 node\n",
    "                del remove_data # 지워야할 node를 제거\n",
    "                return \n",
    "            else:\n",
    "                node = node.next\n",
    "\n",
    "    # 연습 2번을 위한 def 만들기\n",
    "    def serch(self,data):\n",
    "        node = self.head\n",
    "        node_num = 0 # 몇번째 node인지 찾기 위한 변수\n",
    "        while node:\n",
    "            node_num += 1\n",
    "            if node.data == data:\n",
    "                print(f\"Finde data : {data}, index = {node_num}\")\n",
    "                return node\n",
    "            else:\n",
    "                node = node.next"
   ]
  },
  {
   "cell_type": "markdown",
   "metadata": {},
   "source": [
    "연습 1: node 데이터가 2인 node 삭제하기"
   ]
  },
  {
   "cell_type": "code",
   "execution_count": 15,
   "metadata": {},
   "outputs": [
    {
     "name": "stdout",
     "output_type": "stream",
     "text": [
      "0\n",
      "1\n",
      "3\n",
      "4\n",
      "5\n",
      "6\n",
      "7\n",
      "8\n",
      "9\n"
     ]
    }
   ],
   "source": [
    "linkedlist = Linked_List(0)\n",
    "for data in range(1,10):\n",
    "    linkedlist.add(data)\n",
    "\n",
    "linkedlist.delete(2)\n",
    "linkedlist.desc()"
   ]
  },
  {
   "cell_type": "markdown",
   "metadata": {},
   "source": [
    "연습 2: Node 데이터가 특정 숫자인 Node를 찾는 함수를 만들고 테스트"
   ]
  },
  {
   "cell_type": "code",
   "execution_count": 5,
   "metadata": {},
   "outputs": [
    {
     "name": "stdout",
     "output_type": "stream",
     "text": [
      "Finde data : 4, index = 5\n"
     ]
    },
    {
     "data": {
      "text/plain": [
       "4"
      ]
     },
     "execution_count": 5,
     "metadata": {},
     "output_type": "execute_result"
    }
   ],
   "source": [
    "linkedlist = Linked_List(0)\n",
    "for data in range(1,10):\n",
    "    linkedlist.add(data)\n",
    "\n",
    "linkedlist.serch(4).data"
   ]
  },
  {
   "cell_type": "code",
   "execution_count": null,
   "metadata": {},
   "outputs": [],
   "source": []
  }
 ],
 "metadata": {
  "interpreter": {
   "hash": "e4cbe91950c8d3c47ce6c9e2bb78622c27789d701432f2f96e459ce65d9fe504"
  },
  "kernelspec": {
   "display_name": "Python 3.8.13 ('fcpractice1')",
   "language": "python",
   "name": "python3"
  },
  "language_info": {
   "codemirror_mode": {
    "name": "ipython",
    "version": 3
   },
   "file_extension": ".py",
   "mimetype": "text/x-python",
   "name": "python",
   "nbconvert_exporter": "python",
   "pygments_lexer": "ipython3",
   "version": "3.8.13"
  },
  "orig_nbformat": 4
 },
 "nbformat": 4,
 "nbformat_minor": 2
}
