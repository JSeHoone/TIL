{
 "cells": [
  {
   "cell_type": "markdown",
   "metadata": {},
   "source": [
    "연습 1 : 리스트 변수를 활용하여 Hash Table구현하기"
   ]
  },
  {
   "cell_type": "code",
   "execution_count": 6,
   "metadata": {},
   "outputs": [],
   "source": [
    "class Hash():\n",
    "    def __init__(self, size):\n",
    "        self.table  = [None for i in range(size)]\n",
    "\n",
    "    def get_key(self,data):\n",
    "        return hash(data) # hash 키를 생성하는 python 함수\n",
    "    \n",
    "    def hash_func(self,key):\n",
    "        return key % 5\n",
    "    \n",
    "    def save_data (self,data,value):\n",
    "        hash_address = self.hash_func(self.get_key(data))\n",
    "        self.table[hash_address] = value\n",
    "    \n",
    "    def read_data(self,data):\n",
    "        hash_address = self.hash_func(self.get_key(data))\n",
    "        return self.table[hash_address]"
   ]
  },
  {
   "cell_type": "code",
   "execution_count": 9,
   "metadata": {},
   "outputs": [
    {
     "name": "stdout",
     "output_type": "stream",
     "text": [
      "01020302000\n"
     ]
    },
    {
     "data": {
      "text/plain": [
       "['01020302000', None, None, '01033232200', None, None, None, None, None, None]"
      ]
     },
     "execution_count": 9,
     "metadata": {},
     "output_type": "execute_result"
    }
   ],
   "source": [
    "hashtable = Hash(10)\n",
    "hashtable.save_data('Dave', '01020302000')\n",
    "hashtable.save_data('Andy', '01033232200')\n",
    "print(hashtable.read_data('Dave'))\n",
    "hashtable.table"
   ]
  }
 ],
 "metadata": {
  "interpreter": {
   "hash": "e4cbe91950c8d3c47ce6c9e2bb78622c27789d701432f2f96e459ce65d9fe504"
  },
  "kernelspec": {
   "display_name": "Python 3.8.13 ('fcpractice1')",
   "language": "python",
   "name": "python3"
  },
  "language_info": {
   "codemirror_mode": {
    "name": "ipython",
    "version": 3
   },
   "file_extension": ".py",
   "mimetype": "text/x-python",
   "name": "python",
   "nbconvert_exporter": "python",
   "pygments_lexer": "ipython3",
   "version": "3.8.13"
  },
  "orig_nbformat": 4
 },
 "nbformat": 4,
 "nbformat_minor": 2
}
